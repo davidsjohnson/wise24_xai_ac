{
  "cells": [
    {
      "cell_type": "markdown",
      "metadata": {
        "id": "view-in-github",
        "colab_type": "text"
      },
      "source": [
        "<a href=\"https://colab.research.google.com/github/davidsjohnson/wise24_xai_ac/blob/setup/notebooks/tutorial_image_xai.ipynb\" target=\"_parent\"><img src=\"https://colab.research.google.com/assets/colab-badge.svg\" alt=\"Open In Colab\"/></a>"
      ]
    },
    {
      "cell_type": "code",
      "execution_count": 1,
      "metadata": {
        "id": "bo0rt7D7eCE6"
      },
      "outputs": [],
      "source": [
        "# uncomment and run this cell to use Google Colab\n",
        "# !git clone https://github.com/davidsjohnson/wise24_xai_ac.git\n",
        "# fix xgboost incompatiblity issue\n",
        "!pip uninstall -y -q scikit-learn\n",
        "!pip install -q scikit-learn==1.5.2"
      ]
    },
    {
      "cell_type": "code",
      "execution_count": 2,
      "metadata": {
        "id": "4YYhviWyeCE8"
      },
      "outputs": [],
      "source": [
        "import sys\n",
        "import os\n",
        "# sys.path.append(os.path.realpath('../'))  # uncomment this line if you are running this notebook locally\n",
        "sys.path.append(os.path.realpath('wise24_xai_ac')) # uncomment this line if you are running this notebook on Google Colab"
      ]
    },
    {
      "cell_type": "code",
      "execution_count": 3,
      "metadata": {
        "id": "nrIlE77OeCE8"
      },
      "outputs": [],
      "source": [
        "from pathlib import Path\n",
        "\n",
        "import pandas as pd\n",
        "import numpy as np\n",
        "\n",
        "from sklearn.model_selection import train_test_split, RandomizedSearchCV\n",
        "from sklearn.metrics import confusion_matrix, classification_report\n",
        "from scipy.stats import randint, uniform\n",
        "\n",
        "import torch\n",
        "from torch.utils.data import TensorDataset, DataLoader\n",
        "from torchvision import datasets, transforms\n",
        "import torch.nn.functional as F\n",
        "import torch.nn as nn\n",
        "\n",
        "import seaborn as sns\n",
        "import matplotlib.pyplot as plt\n",
        "\n",
        "from skimage import io\n",
        "\n",
        "import utils\n",
        "import img_utils\n",
        "import models\n",
        "import evaluate"
      ]
    },
    {
      "cell_type": "markdown",
      "metadata": {
        "id": "jnMF5LMJeCE9"
      },
      "source": [
        "# Data Loading"
      ]
    },
    {
      "cell_type": "code",
      "execution_count": 15,
      "metadata": {
        "id": "3H2p0wSfeCE_"
      },
      "outputs": [],
      "source": [
        "colab = True # change to False if running locally\n",
        "\n",
        "base_dir = Path('../data/') if not colab else Path('wise24_xai_ac/data/')\n",
        "# Full data from training and evaluation\n",
        "train_csv = base_dir / 'affectnet_aus/train_aus.csv'\n",
        "val_csv = base_dir / 'affectnet_aus/val_aus.csv'\n",
        "\n",
        "# load training and validation data as pandas dataframes\n",
        "# action units extracted from the AffectNet dataset via OpenFace\n",
        "df_train = pd.read_csv(train_csv)\n",
        "df_val = pd.read_csv(val_csv)\n",
        "\n",
        "# smaller dataset for explanations\n",
        "xai_csv = base_dir / 'affectnet_aus/eval_aus.csv'\n",
        "df_xai = pd.read_csv(xai_csv)\n",
        "df_xai['image'] = df_xai['image'].str.replace('../data', str(base_dir))\n",
        "\n",
        "# get only the columns storing action units from the dataframe\n",
        "# there are also facial landmarks and other features in the dataset could be useful\n",
        "# but we igore them for now and focus on action units\n",
        "feature_names = [col for col in df_val.columns if col.startswith('AU')]\n",
        "categorical_features = [feat for feat in feature_names if '_c' in feat]\n",
        "categorical_idxs = [i for i, feat in enumerate(feature_names) if '_c' in feat]\n",
        "\n",
        "# setup categorical features for XGBoost\n",
        "for feat in categorical_features:\n",
        "    df_train[feat] = df_train[feat].astype('category')\n",
        "    df_val[feat] = df_val[feat].astype('category')\n",
        "\n",
        "# get the class labels\n",
        "class_names = ['Neutral', 'Happy', 'Sad', 'Surprise', 'Fear', 'Disgust', 'Anger', 'Contempt']  # same class labels as before\n",
        "\n",
        "# Gets all images from folder used for XAI tasks\n",
        "images = [io.imread(f) for f in df_xai.image]"
      ]
    },
    {
      "cell_type": "markdown",
      "metadata": {
        "id": "ICf37_6teCE_"
      },
      "source": [
        "# XAI for Tabular Data"
      ]
    },
    {
      "cell_type": "code",
      "execution_count": 5,
      "metadata": {
        "id": "dX-WtgK9eCFA"
      },
      "outputs": [],
      "source": [
        "from xgboost import XGBClassifier"
      ]
    },
    {
      "cell_type": "code",
      "execution_count": 16,
      "metadata": {
        "colab": {
          "base_uri": "https://localhost:8080/"
        },
        "id": "_biGmc9_eCFA",
        "outputId": "c4c290d4-fb4d-4eaf-d597-85014bfe8a3d"
      },
      "outputs": [
        {
          "output_type": "stream",
          "name": "stdout",
          "text": [
            "Training data shape: (36685, 35) (36685,)\n",
            "Test data shape: (3908, 35) (3908,)\n"
          ]
        }
      ],
      "source": [
        "X_train = df_train[feature_names]\n",
        "y_train = df_train['class']\n",
        "X_test = df_val[feature_names]\n",
        "y_test = df_val['class']\n",
        "\n",
        "print('Training data shape:', X_train.shape, y_train.shape)\n",
        "print('Test data shape:', X_test.shape, y_test.shape)"
      ]
    },
    {
      "cell_type": "code",
      "execution_count": null,
      "metadata": {
        "id": "8_ngk-0DeCFC"
      },
      "outputs": [],
      "source": [
        "# # Train model from scratch\n",
        "random_state = 10\n",
        "clf = XGBClassifier(booster='gbtree', enable_categorical=True, max_depth=15, eta=0.1, reg_lambda=30, random_state=random_state)\n",
        "clf.fit(X_train, y_train)\n",
        "clf.score(X_train, y_train)"
      ]
    },
    {
      "cell_type": "code",
      "source": [
        "# get model predictions\n",
        "y_test_preds = clf.predict(X_test)\n",
        "y_test_true = y_test\n",
        "\n",
        "# eval results\n",
        "print(classification_report(y_test_true, y_test_preds, target_names=class_names))"
      ],
      "metadata": {
        "id": "BKMpGJm-hELJ"
      },
      "execution_count": null,
      "outputs": []
    },
    {
      "cell_type": "code",
      "source": [
        "cm_data = confusion_matrix(y_test_true, y_test_preds)\n",
        "cm = pd.DataFrame(cm_data, columns=class_names, index=class_names)\n",
        "cm.index.name = 'Actual'\n",
        "cm.columns.name = 'Predicted'\n",
        "plt.figure(figsize = (20,10))\n",
        "plt.title('Confusion Matrix', fontsize = 20)\n",
        "sns.set(font_scale=1.2)\n",
        "ax = sns.heatmap(cm, cbar=False, cmap=\"Blues\", annot=True, annot_kws={\"size\": 16}, fmt='g')"
      ],
      "metadata": {
        "colab": {
          "base_uri": "https://localhost:8080/",
          "height": 211
        },
        "id": "bY9i3RSThb_p",
        "outputId": "5ae076f1-3579-4cfc-9a23-2108a827120c"
      },
      "execution_count": 10,
      "outputs": [
        {
          "output_type": "error",
          "ename": "NameError",
          "evalue": "name 'y_test_true' is not defined",
          "traceback": [
            "\u001b[0;31m---------------------------------------------------------------------------\u001b[0m",
            "\u001b[0;31mNameError\u001b[0m                                 Traceback (most recent call last)",
            "\u001b[0;32m<ipython-input-10-d7d050a4ec51>\u001b[0m in \u001b[0;36m<cell line: 0>\u001b[0;34m()\u001b[0m\n\u001b[0;32m----> 1\u001b[0;31m \u001b[0mcm_data\u001b[0m \u001b[0;34m=\u001b[0m \u001b[0mconfusion_matrix\u001b[0m\u001b[0;34m(\u001b[0m\u001b[0my_test_true\u001b[0m\u001b[0;34m,\u001b[0m \u001b[0my_test_preds\u001b[0m\u001b[0;34m)\u001b[0m\u001b[0;34m\u001b[0m\u001b[0;34m\u001b[0m\u001b[0m\n\u001b[0m\u001b[1;32m      2\u001b[0m \u001b[0mcm\u001b[0m \u001b[0;34m=\u001b[0m \u001b[0mpd\u001b[0m\u001b[0;34m.\u001b[0m\u001b[0mDataFrame\u001b[0m\u001b[0;34m(\u001b[0m\u001b[0mcm_data\u001b[0m\u001b[0;34m,\u001b[0m \u001b[0mcolumns\u001b[0m\u001b[0;34m=\u001b[0m\u001b[0mclass_names\u001b[0m\u001b[0;34m,\u001b[0m \u001b[0mindex\u001b[0m\u001b[0;34m=\u001b[0m\u001b[0mclass_names\u001b[0m\u001b[0;34m)\u001b[0m\u001b[0;34m\u001b[0m\u001b[0;34m\u001b[0m\u001b[0m\n\u001b[1;32m      3\u001b[0m \u001b[0mcm\u001b[0m\u001b[0;34m.\u001b[0m\u001b[0mindex\u001b[0m\u001b[0;34m.\u001b[0m\u001b[0mname\u001b[0m \u001b[0;34m=\u001b[0m \u001b[0;34m'Actual'\u001b[0m\u001b[0;34m\u001b[0m\u001b[0;34m\u001b[0m\u001b[0m\n\u001b[1;32m      4\u001b[0m \u001b[0mcm\u001b[0m\u001b[0;34m.\u001b[0m\u001b[0mcolumns\u001b[0m\u001b[0;34m.\u001b[0m\u001b[0mname\u001b[0m \u001b[0;34m=\u001b[0m \u001b[0;34m'Predicted'\u001b[0m\u001b[0;34m\u001b[0m\u001b[0;34m\u001b[0m\u001b[0m\n\u001b[1;32m      5\u001b[0m \u001b[0mplt\u001b[0m\u001b[0;34m.\u001b[0m\u001b[0mfigure\u001b[0m\u001b[0;34m(\u001b[0m\u001b[0mfigsize\u001b[0m \u001b[0;34m=\u001b[0m \u001b[0;34m(\u001b[0m\u001b[0;36m20\u001b[0m\u001b[0;34m,\u001b[0m\u001b[0;36m10\u001b[0m\u001b[0;34m)\u001b[0m\u001b[0;34m)\u001b[0m\u001b[0;34m\u001b[0m\u001b[0;34m\u001b[0m\u001b[0m\n",
            "\u001b[0;31mNameError\u001b[0m: name 'y_test_true' is not defined"
          ]
        }
      ]
    },
    {
      "cell_type": "markdown",
      "metadata": {
        "id": "_nqMJsz7eCFC"
      },
      "source": [
        "# XAI for CNNs"
      ]
    },
    {
      "cell_type": "code",
      "execution_count": null,
      "metadata": {
        "id": "thzbWv5PeCFD"
      },
      "outputs": [],
      "source": [
        "# Setup Data from AffectNet Deep Learning Model\n",
        "TRAIN_MEAN = [0.485, 0.456, 0.406]\n",
        "TRAIN_STD = [0.229, 0.224, 0.225]\n",
        "\n",
        "test_transform = transforms.Compose([\n",
        "    transforms.ToTensor(),\n",
        "    transforms.Normalize(mean=TRAIN_MEAN, std=TRAIN_STD),\n",
        "    transforms.Resize((224, 224))\n",
        "])\n",
        "\n",
        "data_dir = Path('../data/affectnet/val_class')\n",
        "dataset = datasets.ImageFolder(root=data_dir, transform=test_transform)\n",
        "dataloader = DataLoader(dataset, batch_size=32, shuffle=False)"
      ]
    },
    {
      "cell_type": "code",
      "execution_count": null,
      "metadata": {
        "id": "H7ClFd4LeCFD",
        "outputId": "e94157ec-1435-4939-88d5-65b18c4a342a"
      },
      "outputs": [
        {
          "name": "stdout",
          "output_type": "stream",
          "text": [
            "File already exists at: ../data/affectnet/model/affectnet.pth\n"
          ]
        },
        {
          "data": {
            "text/plain": [
              "PosixPath('../data/affectnet/model/affectnet.pth')"
            ]
          },
          "execution_count": 8,
          "metadata": {},
          "output_type": "execute_result"
        }
      ],
      "source": [
        "# download checkpoint\n",
        "ckpt_link = 'https://uni-bielefeld.sciebo.de/s/0tAa2wPhGxSDjbM/download'\n",
        "ckpt_path = utils.download_file(ckpt_link,\n",
        "                                'affectnet.pth',\n",
        "                                cache_dir='../data/affectnet/model',\n",
        "                                extract=False,\n",
        "                                force_download=False\n",
        "                                )\n",
        "ckpt_path"
      ]
    },
    {
      "cell_type": "code",
      "execution_count": null,
      "metadata": {
        "id": "VFYi82jieCFD",
        "outputId": "e747deee-5a86-4c05-f326-7330a9e6dd98"
      },
      "outputs": [
        {
          "name": "stderr",
          "output_type": "stream",
          "text": [
            "/Users/djohnson/micromamba/envs/wise24_xai_ac/lib/python3.10/site-packages/torchvision/models/_utils.py:135: UserWarning: Using 'weights' as positional parameter(s) is deprecated since 0.13 and may be removed in the future. Please use keyword parameter(s) instead.\n",
            "  warnings.warn(\n"
          ]
        },
        {
          "data": {
            "text/plain": [
              "<All keys matched successfully>"
            ]
          },
          "execution_count": 9,
          "metadata": {},
          "output_type": "execute_result"
        }
      ],
      "source": [
        "model = models.ResNet18(n_classes=len(class_names), pretrained=True)\n",
        "model.load_state_dict(torch.load(ckpt_path, map_location='cpu'))"
      ]
    },
    {
      "cell_type": "code",
      "execution_count": null,
      "metadata": {
        "id": "MDO-WZYOeCFE",
        "outputId": "482800d0-a8bf-40f9-e088-dc8ed7051b99"
      },
      "outputs": [
        {
          "name": "stdout",
          "output_type": "stream",
          "text": [
            "Evaluation Loss: 1.2141, Evaluation Accuracy: 0.5875\n"
          ]
        }
      ],
      "source": [
        "inverse_weights = torch.from_numpy(1.0/np.array([74874, 134415, 25459, 14090, 6378, 3803, 24882, 3750])).type(torch.float32)\n",
        "loss = torch.nn.CrossEntropyLoss(weight=inverse_weights)\n",
        "_, _, preds, probs = evaluate.evaluate_model(model, dataloader, loss, device='cpu')"
      ]
    }
  ],
  "metadata": {
    "kernelspec": {
      "display_name": "Python 3",
      "language": "python",
      "name": "python3"
    },
    "language_info": {
      "codemirror_mode": {
        "name": "ipython",
        "version": 3
      },
      "file_extension": ".py",
      "mimetype": "text/x-python",
      "name": "python",
      "nbconvert_exporter": "python",
      "pygments_lexer": "ipython3",
      "version": "3.10.16"
    },
    "colab": {
      "provenance": [],
      "include_colab_link": true
    }
  },
  "nbformat": 4,
  "nbformat_minor": 0
}